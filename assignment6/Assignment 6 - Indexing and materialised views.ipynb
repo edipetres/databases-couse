{
 "cells": [
  {
   "cell_type": "code",
   "execution_count": 2,
   "metadata": {},
   "outputs": [
    {
     "name": "stdout",
     "output_type": "stream",
     "text": [
      "The sql extension is already loaded. To reload it, use:\n",
      "  %reload_ext sql\n"
     ]
    }
   ],
   "source": [
    "%load_ext sql"
   ]
  },
  {
   "cell_type": "code",
   "execution_count": 4,
   "metadata": {},
   "outputs": [
    {
     "data": {
      "text/plain": [
       "'Connected: appdev@appdev'"
      ]
     },
     "execution_count": 4,
     "metadata": {},
     "output_type": "execute_result"
    }
   ],
   "source": [
    "%sql postgresql://appdev@data3/appdev"
   ]
  },
  {
   "cell_type": "code",
   "execution_count": 7,
   "metadata": {},
   "outputs": [
    {
     "name": "stdout",
     "output_type": "stream",
     "text": [
      "3 rows affected.\n"
     ]
    },
    {
     "data": {
      "text/html": [
       "<table>\n",
       "    <tr>\n",
       "        <th>schemaname</th>\n",
       "        <th>tablename</th>\n",
       "        <th>indexname</th>\n",
       "        <th>tablespace</th>\n",
       "        <th>indexdef</th>\n",
       "    </tr>\n",
       "    <tr>\n",
       "        <td>f1db</td>\n",
       "        <td>circuits</td>\n",
       "        <td>idx_17102_url</td>\n",
       "        <td>None</td>\n",
       "        <td>CREATE UNIQUE INDEX idx_17102_url ON circuits USING btree (url)</td>\n",
       "    </tr>\n",
       "    <tr>\n",
       "        <td>f1db</td>\n",
       "        <td>circuits</td>\n",
       "        <td>circuits_position_idx</td>\n",
       "        <td>None</td>\n",
       "        <td>CREATE INDEX circuits_position_idx ON circuits USING gist (&quot;position&quot;)</td>\n",
       "    </tr>\n",
       "    <tr>\n",
       "        <td>f1db</td>\n",
       "        <td>circuits</td>\n",
       "        <td>idx_17102_primary</td>\n",
       "        <td>None</td>\n",
       "        <td>CREATE UNIQUE INDEX idx_17102_primary ON circuits USING btree (circuitid)</td>\n",
       "    </tr>\n",
       "</table>"
      ],
      "text/plain": [
       "[('f1db', 'circuits', 'idx_17102_url', None, 'CREATE UNIQUE INDEX idx_17102_url ON circuits USING btree (url)'),\n",
       " ('f1db', 'circuits', 'circuits_position_idx', None, 'CREATE INDEX circuits_position_idx ON circuits USING gist (\"position\")'),\n",
       " ('f1db', 'circuits', 'idx_17102_primary', None, 'CREATE UNIQUE INDEX idx_17102_primary ON circuits USING btree (circuitid)')]"
      ]
     },
     "execution_count": 7,
     "metadata": {},
     "output_type": "execute_result"
    }
   ],
   "source": [
    "%sql SELECT * FROM pg_indexes WHERE tablename = 'circuits';"
   ]
  },
  {
   "cell_type": "markdown",
   "metadata": {},
   "source": [
    "## 1. On the table \"circuits\" report:\n",
    "- What type of indices exists for the table and why they are of that type (and not some other type)\n",
    "- The amount of space each index takes up\n",
    "\n",
    "There are two types of indices: btree and gist.\n",
    "\n",
    "First and third indices are btrees. These are the default indices in PostgreSQL. The lookup time in big O is logarithmic.\n",
    "\n",
    "The gist type of index works well for geospatial indexing, so the position column is a good fit for this type.\n",
    "\n",
    "Index sizes:"
   ]
  },
  {
   "cell_type": "code",
   "execution_count": 13,
   "metadata": {},
   "outputs": [
    {
     "name": "stdout",
     "output_type": "stream",
     "text": [
      "1 rows affected.\n"
     ]
    },
    {
     "data": {
      "text/html": [
       "<table>\n",
       "    <tr>\n",
       "        <th>pg_size_pretty</th>\n",
       "    </tr>\n",
       "    <tr>\n",
       "        <td>16 kB</td>\n",
       "    </tr>\n",
       "</table>"
      ],
      "text/plain": [
       "[('16 kB',)]"
      ]
     },
     "execution_count": 13,
     "metadata": {},
     "output_type": "execute_result"
    }
   ],
   "source": [
    "%sql SELECT pg_size_pretty(pg_total_relation_size('idx_17102_url'));"
   ]
  },
  {
   "cell_type": "code",
   "execution_count": 15,
   "metadata": {},
   "outputs": [
    {
     "name": "stdout",
     "output_type": "stream",
     "text": [
      "1 rows affected.\n"
     ]
    },
    {
     "data": {
      "text/html": [
       "<table>\n",
       "    <tr>\n",
       "        <th>pg_size_pretty</th>\n",
       "    </tr>\n",
       "    <tr>\n",
       "        <td>8192 bytes</td>\n",
       "    </tr>\n",
       "</table>"
      ],
      "text/plain": [
       "[('8192 bytes',)]"
      ]
     },
     "execution_count": 15,
     "metadata": {},
     "output_type": "execute_result"
    }
   ],
   "source": [
    "%sql SELECT pg_size_pretty(pg_total_relation_size('circuits_position_idx'));"
   ]
  },
  {
   "cell_type": "code",
   "execution_count": 17,
   "metadata": {},
   "outputs": [
    {
     "name": "stdout",
     "output_type": "stream",
     "text": [
      "1 rows affected.\n"
     ]
    },
    {
     "data": {
      "text/html": [
       "<table>\n",
       "    <tr>\n",
       "        <th>pg_size_pretty</th>\n",
       "    </tr>\n",
       "    <tr>\n",
       "        <td>16 kB</td>\n",
       "    </tr>\n",
       "</table>"
      ],
      "text/plain": [
       "[('16 kB',)]"
      ]
     },
     "execution_count": 17,
     "metadata": {},
     "output_type": "execute_result"
    }
   ],
   "source": [
    "%sql SELECT pg_size_pretty(pg_total_relation_size('idx_17102_primary'));"
   ]
  },
  {
   "cell_type": "markdown",
   "metadata": {},
   "source": [
    "## 2. We are talent scouts looking to win over some of the best new drivers there are. But we don't want them too old! Write a query that finds the winner of all the races, but only if they are younger than 38 years. The query should give return the date, driver surname, driver age, track time in milliseconds, race name and circuit name for all races."
   ]
  },
  {
   "cell_type": "code",
   "execution_count": null,
   "metadata": {},
   "outputs": [],
   "source": []
  }
 ],
 "metadata": {
  "kernelspec": {
   "display_name": "Python 3",
   "language": "python",
   "name": "python3"
  },
  "language_info": {
   "codemirror_mode": {
    "name": "ipython",
    "version": 3
   },
   "file_extension": ".py",
   "mimetype": "text/x-python",
   "name": "python",
   "nbconvert_exporter": "python",
   "pygments_lexer": "ipython3",
   "version": "3.6.3"
  }
 },
 "nbformat": 4,
 "nbformat_minor": 2
}
